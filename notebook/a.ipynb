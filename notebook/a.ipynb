{
 "cells": [
  {
   "cell_type": "code",
   "execution_count": null,
   "metadata": {},
   "outputs": [],
   "source": [
    "try:\n",
    "    # Fetch the table schema\n",
    "    cursor.execute(\"SELECT column_name, data_type FROM information_schema.columns WHERE table_name = 'city_chart'\")\n",
    "    schema_rows = cursor.fetchall()\n",
    "    schema = {row[0]: row[1] for row in schema_rows}\n",
    "\n",
    "    while True:\n",
    "        # Prompt for a question or enter 'exit' to end the conversation\n",
    "        question = input(\"Enter a question or type 'exit' to end the conversation: \")\n",
    "\n",
    "        if question.lower() == \"exit\":\n",
    "            break\n",
    "\n",
    "        # Generate SQL query using OpenAI\n",
    "        prompt = f\"Retrieve data from the 'city_chart' table based on the question: {question}.\"\n",
    "        response = openai.Completion.create(\n",
    "            engine=\"text-davinci-003\",\n",
    "            prompt=prompt,\n",
    "            max_tokens=50,\n",
    "            n=1,\n",
    "            stop=None,\n",
    "            temperature=0.5,\n",
    "            top_p=1.0,\n",
    "            frequency_penalty=0.0,\n",
    "            presence_penalty=0.0\n",
    "        )\n",
    "        sql_query = response.choices[0].text.strip()\n",
    "\n",
    "        # Execute the SQL query\n",
    "        cursor.execute(sql_query)\n",
    "        result = cursor.fetchall()\n",
    "\n",
    "        # Print the question, SQL query, SQL result, and answer\n",
    "        print(\"Question:\", question)\n",
    "        print(\"SQL Query:\", sql_query)\n",
    "        print(\"SQL Result:\", result)\n",
    "        print(\"Answer:\", response.choices[0].text.strip())\n",
    "\n",
    "finally:\n",
    "    # Close the cursor and connection\n",
    "    cursor.close()\n",
    "    conn.close()"
   ]
  }
 ],
 "metadata": {
  "language_info": {
   "name": "python"
  }
 },
 "nbformat": 4,
 "nbformat_minor": 2
}
