{
 "cells": [
  {
   "cell_type": "code",
   "execution_count": 14,
   "id": "2af4453e-2d49-4e65-b5fa-58c36883cecc",
   "metadata": {},
   "outputs": [],
   "source": [
    "import pandas as pd"
   ]
  },
  {
   "cell_type": "code",
   "execution_count": 15,
   "id": "adedbf25-2380-44e1-bc66-03c9737a5bf3",
   "metadata": {},
   "outputs": [],
   "source": [
    "import sys,os\n",
    "sys.path.append(\"../scripts/\")\n",
    "from data_extraction import DataFrameManipulator"
   ]
  },
  {
   "cell_type": "code",
   "execution_count": 54,
   "id": "ed58921d-4fe5-4cf9-9a14-5a2e934b14ca",
   "metadata": {},
   "outputs": [],
   "source": [
    "city_chart  = pd.read_csv('../youtube_data/Cities/Chart data.csv')"
   ]
  },
  {
   "cell_type": "code",
   "execution_count": 55,
   "id": "7f316663-9c30-4f65-b47c-f9898d1505e4",
   "metadata": {},
   "outputs": [
    {
     "data": {
      "text/html": [
       "<div>\n",
       "<style scoped>\n",
       "    .dataframe tbody tr th:only-of-type {\n",
       "        vertical-align: middle;\n",
       "    }\n",
       "\n",
       "    .dataframe tbody tr th {\n",
       "        vertical-align: top;\n",
       "    }\n",
       "\n",
       "    .dataframe thead th {\n",
       "        text-align: right;\n",
       "    }\n",
       "</style>\n",
       "<table border=\"1\" class=\"dataframe\">\n",
       "  <thead>\n",
       "    <tr style=\"text-align: right;\">\n",
       "      <th></th>\n",
       "      <th>Date</th>\n",
       "      <th>Cities</th>\n",
       "      <th>City name</th>\n",
       "      <th>Views</th>\n",
       "    </tr>\n",
       "  </thead>\n",
       "  <tbody>\n",
       "    <tr>\n",
       "      <th>0</th>\n",
       "      <td>2020-06-28</td>\n",
       "      <td>0x164b85cef5ab402d:0x8467b6b037a24d49</td>\n",
       "      <td>Addis Ababa</td>\n",
       "      <td>0</td>\n",
       "    </tr>\n",
       "    <tr>\n",
       "      <th>1</th>\n",
       "      <td>2020-06-29</td>\n",
       "      <td>0x164b85cef5ab402d:0x8467b6b037a24d49</td>\n",
       "      <td>Addis Ababa</td>\n",
       "      <td>0</td>\n",
       "    </tr>\n",
       "    <tr>\n",
       "      <th>2</th>\n",
       "      <td>2020-06-30</td>\n",
       "      <td>0x164b85cef5ab402d:0x8467b6b037a24d49</td>\n",
       "      <td>Addis Ababa</td>\n",
       "      <td>0</td>\n",
       "    </tr>\n",
       "    <tr>\n",
       "      <th>3</th>\n",
       "      <td>2020-07-01</td>\n",
       "      <td>0x164b85cef5ab402d:0x8467b6b037a24d49</td>\n",
       "      <td>Addis Ababa</td>\n",
       "      <td>0</td>\n",
       "    </tr>\n",
       "    <tr>\n",
       "      <th>4</th>\n",
       "      <td>2020-07-02</td>\n",
       "      <td>0x164b85cef5ab402d:0x8467b6b037a24d49</td>\n",
       "      <td>Addis Ababa</td>\n",
       "      <td>0</td>\n",
       "    </tr>\n",
       "    <tr>\n",
       "      <th>5</th>\n",
       "      <td>2020-07-03</td>\n",
       "      <td>0x164b85cef5ab402d:0x8467b6b037a24d49</td>\n",
       "      <td>Addis Ababa</td>\n",
       "      <td>0</td>\n",
       "    </tr>\n",
       "    <tr>\n",
       "      <th>6</th>\n",
       "      <td>2020-07-04</td>\n",
       "      <td>0x164b85cef5ab402d:0x8467b6b037a24d49</td>\n",
       "      <td>Addis Ababa</td>\n",
       "      <td>0</td>\n",
       "    </tr>\n",
       "    <tr>\n",
       "      <th>7</th>\n",
       "      <td>2020-07-05</td>\n",
       "      <td>0x164b85cef5ab402d:0x8467b6b037a24d49</td>\n",
       "      <td>Addis Ababa</td>\n",
       "      <td>0</td>\n",
       "    </tr>\n",
       "    <tr>\n",
       "      <th>8</th>\n",
       "      <td>2020-07-06</td>\n",
       "      <td>0x164b85cef5ab402d:0x8467b6b037a24d49</td>\n",
       "      <td>Addis Ababa</td>\n",
       "      <td>0</td>\n",
       "    </tr>\n",
       "    <tr>\n",
       "      <th>9</th>\n",
       "      <td>2020-07-07</td>\n",
       "      <td>0x164b85cef5ab402d:0x8467b6b037a24d49</td>\n",
       "      <td>Addis Ababa</td>\n",
       "      <td>0</td>\n",
       "    </tr>\n",
       "  </tbody>\n",
       "</table>\n",
       "</div>"
      ],
      "text/plain": [
       "         Date                                 Cities    City name  Views\n",
       "0  2020-06-28  0x164b85cef5ab402d:0x8467b6b037a24d49  Addis Ababa      0\n",
       "1  2020-06-29  0x164b85cef5ab402d:0x8467b6b037a24d49  Addis Ababa      0\n",
       "2  2020-06-30  0x164b85cef5ab402d:0x8467b6b037a24d49  Addis Ababa      0\n",
       "3  2020-07-01  0x164b85cef5ab402d:0x8467b6b037a24d49  Addis Ababa      0\n",
       "4  2020-07-02  0x164b85cef5ab402d:0x8467b6b037a24d49  Addis Ababa      0\n",
       "5  2020-07-03  0x164b85cef5ab402d:0x8467b6b037a24d49  Addis Ababa      0\n",
       "6  2020-07-04  0x164b85cef5ab402d:0x8467b6b037a24d49  Addis Ababa      0\n",
       "7  2020-07-05  0x164b85cef5ab402d:0x8467b6b037a24d49  Addis Ababa      0\n",
       "8  2020-07-06  0x164b85cef5ab402d:0x8467b6b037a24d49  Addis Ababa      0\n",
       "9  2020-07-07  0x164b85cef5ab402d:0x8467b6b037a24d49  Addis Ababa      0"
      ]
     },
     "execution_count": 55,
     "metadata": {},
     "output_type": "execute_result"
    }
   ],
   "source": [
    "city_chart.head(10)"
   ]
  },
  {
   "cell_type": "code",
   "execution_count": 56,
   "id": "427b8c60-d257-4d1a-a8d6-d7bfeb577455",
   "metadata": {},
   "outputs": [
    {
     "data": {
      "text/plain": [
       "(6395, 4)"
      ]
     },
     "execution_count": 56,
     "metadata": {},
     "output_type": "execute_result"
    }
   ],
   "source": [
    "city_chart.shape"
   ]
  },
  {
   "cell_type": "code",
   "execution_count": 6,
   "id": "46378090-c992-44e0-a82d-77509aaf64a0",
   "metadata": {},
   "outputs": [],
   "source": [
    "def rename_columns(df, new_column_names):\n",
    "    \"\"\"\n",
    "    Rename columns in a Pandas DataFrame.\n",
    "\n",
    "    Parameters:\n",
    "    - df: Pandas DataFrame\n",
    "    - new_column_names: Dictionary of old-to-new column names\n",
    "\n",
    "    Returns:\n",
    "    - DataFrame with renamed columns\n",
    "    \"\"\"\n",
    "    df.rename(columns=new_column_names, inplace=True)\n",
    "    return df"
   ]
  },
  {
   "cell_type": "code",
   "execution_count": 58,
   "id": "8ef98752-467b-482e-a54e-f9aee60e270b",
   "metadata": {},
   "outputs": [],
   "source": [
    "new_column_names = {'Cities': 'city_id', 'City name': 'city_name','Date':'date'}"
   ]
  },
  {
   "cell_type": "code",
   "execution_count": 59,
   "id": "5f204594-f297-4673-8d58-94cdadafc69c",
   "metadata": {},
   "outputs": [],
   "source": [
    "city_chart  = rename_columns(city_chart,new_column_names)"
   ]
  },
  {
   "cell_type": "code",
   "execution_count": 60,
   "id": "b81c0cb7-7ebd-4865-932e-11a35e8846b2",
   "metadata": {},
   "outputs": [
    {
     "data": {
      "text/html": [
       "<div>\n",
       "<style scoped>\n",
       "    .dataframe tbody tr th:only-of-type {\n",
       "        vertical-align: middle;\n",
       "    }\n",
       "\n",
       "    .dataframe tbody tr th {\n",
       "        vertical-align: top;\n",
       "    }\n",
       "\n",
       "    .dataframe thead th {\n",
       "        text-align: right;\n",
       "    }\n",
       "</style>\n",
       "<table border=\"1\" class=\"dataframe\">\n",
       "  <thead>\n",
       "    <tr style=\"text-align: right;\">\n",
       "      <th></th>\n",
       "      <th>date</th>\n",
       "      <th>city_id</th>\n",
       "      <th>city_name</th>\n",
       "      <th>Views</th>\n",
       "    </tr>\n",
       "  </thead>\n",
       "  <tbody>\n",
       "    <tr>\n",
       "      <th>0</th>\n",
       "      <td>2020-06-28</td>\n",
       "      <td>0x164b85cef5ab402d:0x8467b6b037a24d49</td>\n",
       "      <td>Addis Ababa</td>\n",
       "      <td>0</td>\n",
       "    </tr>\n",
       "    <tr>\n",
       "      <th>1</th>\n",
       "      <td>2020-06-29</td>\n",
       "      <td>0x164b85cef5ab402d:0x8467b6b037a24d49</td>\n",
       "      <td>Addis Ababa</td>\n",
       "      <td>0</td>\n",
       "    </tr>\n",
       "    <tr>\n",
       "      <th>2</th>\n",
       "      <td>2020-06-30</td>\n",
       "      <td>0x164b85cef5ab402d:0x8467b6b037a24d49</td>\n",
       "      <td>Addis Ababa</td>\n",
       "      <td>0</td>\n",
       "    </tr>\n",
       "    <tr>\n",
       "      <th>3</th>\n",
       "      <td>2020-07-01</td>\n",
       "      <td>0x164b85cef5ab402d:0x8467b6b037a24d49</td>\n",
       "      <td>Addis Ababa</td>\n",
       "      <td>0</td>\n",
       "    </tr>\n",
       "    <tr>\n",
       "      <th>4</th>\n",
       "      <td>2020-07-02</td>\n",
       "      <td>0x164b85cef5ab402d:0x8467b6b037a24d49</td>\n",
       "      <td>Addis Ababa</td>\n",
       "      <td>0</td>\n",
       "    </tr>\n",
       "  </tbody>\n",
       "</table>\n",
       "</div>"
      ],
      "text/plain": [
       "         date                                city_id    city_name  Views\n",
       "0  2020-06-28  0x164b85cef5ab402d:0x8467b6b037a24d49  Addis Ababa      0\n",
       "1  2020-06-29  0x164b85cef5ab402d:0x8467b6b037a24d49  Addis Ababa      0\n",
       "2  2020-06-30  0x164b85cef5ab402d:0x8467b6b037a24d49  Addis Ababa      0\n",
       "3  2020-07-01  0x164b85cef5ab402d:0x8467b6b037a24d49  Addis Ababa      0\n",
       "4  2020-07-02  0x164b85cef5ab402d:0x8467b6b037a24d49  Addis Ababa      0"
      ]
     },
     "execution_count": 60,
     "metadata": {},
     "output_type": "execute_result"
    }
   ],
   "source": [
    "city_chart.head()"
   ]
  },
  {
   "cell_type": "code",
   "execution_count": null,
   "id": "235196f0-9274-462b-ba2f-558405f5a794",
   "metadata": {},
   "outputs": [],
   "source": []
  },
  {
   "cell_type": "code",
   "execution_count": null,
   "id": "98833d7e-fc61-42bc-b54e-08f7947fd06f",
   "metadata": {},
   "outputs": [],
   "source": []
  },
  {
   "cell_type": "code",
   "execution_count": 61,
   "id": "1cb9d205-57c6-411e-b514-9da6139c16b2",
   "metadata": {},
   "outputs": [],
   "source": [
    "city_table  = pd.read_csv('../youtube_data/Cities/Table data.csv')"
   ]
  },
  {
   "cell_type": "code",
   "execution_count": 62,
   "id": "95b9c65b-1bf1-4c6b-a995-5c23aede322b",
   "metadata": {},
   "outputs": [
    {
     "data": {
      "text/html": [
       "<div>\n",
       "<style scoped>\n",
       "    .dataframe tbody tr th:only-of-type {\n",
       "        vertical-align: middle;\n",
       "    }\n",
       "\n",
       "    .dataframe tbody tr th {\n",
       "        vertical-align: top;\n",
       "    }\n",
       "\n",
       "    .dataframe thead th {\n",
       "        text-align: right;\n",
       "    }\n",
       "</style>\n",
       "<table border=\"1\" class=\"dataframe\">\n",
       "  <thead>\n",
       "    <tr style=\"text-align: right;\">\n",
       "      <th></th>\n",
       "      <th>Cities</th>\n",
       "      <th>City name</th>\n",
       "      <th>Geography</th>\n",
       "      <th>Geography.1</th>\n",
       "      <th>Views</th>\n",
       "      <th>Watch time (hours)</th>\n",
       "      <th>Average view duration</th>\n",
       "    </tr>\n",
       "  </thead>\n",
       "  <tbody>\n",
       "    <tr>\n",
       "      <th>0</th>\n",
       "      <td>Total</td>\n",
       "      <td>NaN</td>\n",
       "      <td>NaN</td>\n",
       "      <td>NaN</td>\n",
       "      <td>26625</td>\n",
       "      <td>2157.3497</td>\n",
       "      <td>0:04:51</td>\n",
       "    </tr>\n",
       "    <tr>\n",
       "      <th>1</th>\n",
       "      <td>0x164b85cef5ab402d:0x8467b6b037a24d49</td>\n",
       "      <td>Addis Ababa</td>\n",
       "      <td>ET</td>\n",
       "      <td>ET-AA</td>\n",
       "      <td>1252</td>\n",
       "      <td>127.5042</td>\n",
       "      <td>0:06:06</td>\n",
       "    </tr>\n",
       "    <tr>\n",
       "      <th>2</th>\n",
       "      <td>0x487a4d4c5226f5db:0xd9be143804fe6baa</td>\n",
       "      <td>Manchester</td>\n",
       "      <td>GB</td>\n",
       "      <td>GB-ENG</td>\n",
       "      <td>23</td>\n",
       "      <td>0.0402</td>\n",
       "      <td>0:00:06</td>\n",
       "    </tr>\n",
       "    <tr>\n",
       "      <th>3</th>\n",
       "      <td>0x3568eb6de823cd35:0x35d8cb74247108a7</td>\n",
       "      <td>Busan</td>\n",
       "      <td>KR</td>\n",
       "      <td>KR-26</td>\n",
       "      <td>14</td>\n",
       "      <td>0.0354</td>\n",
       "      <td>0:00:09</td>\n",
       "    </tr>\n",
       "    <tr>\n",
       "      <th>4</th>\n",
       "      <td>0x168e8fde9837cabf:0x191f55de7e67db40</td>\n",
       "      <td>Khartoum</td>\n",
       "      <td>SD</td>\n",
       "      <td>SD-KH</td>\n",
       "      <td>12</td>\n",
       "      <td>1.2627</td>\n",
       "      <td>0:06:18</td>\n",
       "    </tr>\n",
       "  </tbody>\n",
       "</table>\n",
       "</div>"
      ],
      "text/plain": [
       "                                  Cities    City name Geography Geography.1  \\\n",
       "0                                  Total          NaN       NaN         NaN   \n",
       "1  0x164b85cef5ab402d:0x8467b6b037a24d49  Addis Ababa        ET       ET-AA   \n",
       "2  0x487a4d4c5226f5db:0xd9be143804fe6baa   Manchester        GB      GB-ENG   \n",
       "3  0x3568eb6de823cd35:0x35d8cb74247108a7        Busan        KR       KR-26   \n",
       "4  0x168e8fde9837cabf:0x191f55de7e67db40     Khartoum        SD       SD-KH   \n",
       "\n",
       "   Views  Watch time (hours) Average view duration  \n",
       "0  26625           2157.3497               0:04:51  \n",
       "1   1252            127.5042               0:06:06  \n",
       "2     23              0.0402               0:00:06  \n",
       "3     14              0.0354               0:00:09  \n",
       "4     12              1.2627               0:06:18  "
      ]
     },
     "execution_count": 62,
     "metadata": {},
     "output_type": "execute_result"
    }
   ],
   "source": [
    "city_table.head()"
   ]
  },
  {
   "cell_type": "code",
   "execution_count": 63,
   "id": "aee74e0b-c66c-4236-baf4-606c7a0282ad",
   "metadata": {},
   "outputs": [],
   "source": [
    "new_column_names = {'Cities': 'city_id','City name': 'city_name','Geography': 'country_code'}"
   ]
  },
  {
   "cell_type": "code",
   "execution_count": 65,
   "id": "795702a1-9d3a-4355-aaad-ef7fb6fc2158",
   "metadata": {},
   "outputs": [],
   "source": [
    "city_table   = rename_columns(city_table,new_column_names)"
   ]
  },
  {
   "cell_type": "code",
   "execution_count": null,
   "id": "8b3459b3-fa45-4bbd-87f7-dc2f2a26b5c0",
   "metadata": {},
   "outputs": [],
   "source": [
    "city_table.head()"
   ]
  },
  {
   "cell_type": "code",
   "execution_count": 5,
   "id": "d75da0ea-aedb-45d0-b247-db5f8d39d341",
   "metadata": {},
   "outputs": [],
   "source": [
    "def drop_rows(df, rows_to_drop, by_index=True):\n",
    "    \"\"\"\n",
    "    Drop rows from a Pandas DataFrame.\n",
    "\n",
    "    Parameters:\n",
    "    - df: Pandas DataFrame\n",
    "    - rows_to_drop: List of index labels or row numbers to drop\n",
    "    - by_index: If True, drop rows by index labels; if False, drop rows by row numbers\n",
    "\n",
    "    Returns:\n",
    "    - DataFrame with specified rows dropped\n",
    "    \"\"\"\n",
    "    if by_index:\n",
    "        df_dropped = df.drop(rows_to_drop)\n",
    "    else:\n",
    "        df_dropped = df.drop(df.index[rows_to_drop])\n",
    "\n",
    "    return df_dropped"
   ]
  },
  {
   "cell_type": "code",
   "execution_count": null,
   "id": "34cc0059-6da2-4dbc-a4a6-d57ea9c448b4",
   "metadata": {},
   "outputs": [],
   "source": [
    "rows_to_drop_by_number = [0]"
   ]
  },
  {
   "cell_type": "code",
   "execution_count": null,
   "id": "3faa8d58-fe8c-4607-abed-4593aa9fa6f2",
   "metadata": {},
   "outputs": [],
   "source": [
    "city_table = drop_rows(City_type, rows_to_drop_by_number, by_index=False)"
   ]
  },
  {
   "cell_type": "code",
   "execution_count": null,
   "id": "bb2353de-ef7f-49c9-a9a2-9fa69731c174",
   "metadata": {},
   "outputs": [],
   "source": [
    "city_table.head()"
   ]
  },
  {
   "cell_type": "code",
   "execution_count": null,
   "id": "6c4a049d-99c3-4cc7-8552-2658886d100f",
   "metadata": {},
   "outputs": [],
   "source": [
    "def drop_columns(df, columns_to_drop):\n",
    "    \"\"\"\n",
    "    Drop columns from the Pandas DataFrame.\n",
    "\n",
    "    Parameters:\n",
    "    - df: Pandas DataFrame\n",
    "    - columns_to_drop: List of column names to drop\n",
    "\n",
    "    Returns:\n",
    "    - Modified DataFrame\n",
    "    \"\"\"\n",
    "    return df.drop(columns=columns_to_drop)\n"
   ]
  },
  {
   "cell_type": "code",
   "execution_count": null,
   "id": "70193eb5-0fb3-4a52-ba7c-59f1e28fde86",
   "metadata": {},
   "outputs": [],
   "source": [
    "columns_to_drop = ['Geography.1', 'Views','Watch time (hours)','Average view duration']"
   ]
  },
  {
   "cell_type": "code",
   "execution_count": null,
   "id": "5be3d963-417e-4c8f-9de9-f2b594e0cbf9",
   "metadata": {},
   "outputs": [],
   "source": [
    "city_table = drop_columns(City_type,columns_to_drop)"
   ]
  },
  {
   "cell_type": "code",
   "execution_count": 53,
   "id": "dcfd6c57-0c40-4a79-a612-e0e05b00ca69",
   "metadata": {},
   "outputs": [
    {
     "ename": "NameError",
     "evalue": "name 'city_table' is not defined",
     "output_type": "error",
     "traceback": [
      "\u001b[0;31m---------------------------------------------------------------------------\u001b[0m",
      "\u001b[0;31mNameError\u001b[0m                                 Traceback (most recent call last)",
      "Cell \u001b[0;32mIn[53], line 1\u001b[0m\n\u001b[0;32m----> 1\u001b[0m \u001b[43mcity_table\u001b[49m\u001b[38;5;241m.\u001b[39mhead()\n",
      "\u001b[0;31mNameError\u001b[0m: name 'city_table' is not defined"
     ]
    }
   ],
   "source": [
    "city_table.head()"
   ]
  },
  {
   "cell_type": "code",
   "execution_count": null,
   "id": "2d6f97a2-936b-4a00-af05-1c4532ad5f20",
   "metadata": {},
   "outputs": [],
   "source": [
    "city_table.to_csv('../data/city_table.csv',index=False)"
   ]
  },
  {
   "cell_type": "code",
   "execution_count": 66,
   "id": "053e5a39-2dfd-49be-8c24-367e98a7243b",
   "metadata": {},
   "outputs": [],
   "source": [
    "a  = pd.read_csv('../youtube_data/Geography/Table data.csv')"
   ]
  },
  {
   "cell_type": "code",
   "execution_count": 67,
   "id": "d373e7a4-a990-4d49-ab30-c793d38663d2",
   "metadata": {},
   "outputs": [
    {
     "data": {
      "text/html": [
       "<div>\n",
       "<style scoped>\n",
       "    .dataframe tbody tr th:only-of-type {\n",
       "        vertical-align: middle;\n",
       "    }\n",
       "\n",
       "    .dataframe tbody tr th {\n",
       "        vertical-align: top;\n",
       "    }\n",
       "\n",
       "    .dataframe thead th {\n",
       "        text-align: right;\n",
       "    }\n",
       "</style>\n",
       "<table border=\"1\" class=\"dataframe\">\n",
       "  <thead>\n",
       "    <tr style=\"text-align: right;\">\n",
       "      <th></th>\n",
       "      <th>Geography</th>\n",
       "      <th>Views</th>\n",
       "      <th>Watch time (hours)</th>\n",
       "      <th>Average view duration</th>\n",
       "    </tr>\n",
       "  </thead>\n",
       "  <tbody>\n",
       "    <tr>\n",
       "      <th>0</th>\n",
       "      <td>Total</td>\n",
       "      <td>26625</td>\n",
       "      <td>2157.3497</td>\n",
       "      <td>0:04:51</td>\n",
       "    </tr>\n",
       "    <tr>\n",
       "      <th>1</th>\n",
       "      <td>ET</td>\n",
       "      <td>10903</td>\n",
       "      <td>958.4972</td>\n",
       "      <td>0:05:16</td>\n",
       "    </tr>\n",
       "    <tr>\n",
       "      <th>2</th>\n",
       "      <td>NG</td>\n",
       "      <td>854</td>\n",
       "      <td>103.8847</td>\n",
       "      <td>0:07:17</td>\n",
       "    </tr>\n",
       "    <tr>\n",
       "      <th>3</th>\n",
       "      <td>KE</td>\n",
       "      <td>460</td>\n",
       "      <td>48.0795</td>\n",
       "      <td>0:06:16</td>\n",
       "    </tr>\n",
       "    <tr>\n",
       "      <th>4</th>\n",
       "      <td>US</td>\n",
       "      <td>260</td>\n",
       "      <td>11.6346</td>\n",
       "      <td>0:02:41</td>\n",
       "    </tr>\n",
       "  </tbody>\n",
       "</table>\n",
       "</div>"
      ],
      "text/plain": [
       "  Geography  Views  Watch time (hours) Average view duration\n",
       "0     Total  26625           2157.3497               0:04:51\n",
       "1        ET  10903            958.4972               0:05:16\n",
       "2        NG    854            103.8847               0:07:17\n",
       "3        KE    460             48.0795               0:06:16\n",
       "4        US    260             11.6346               0:02:41"
      ]
     },
     "execution_count": 67,
     "metadata": {},
     "output_type": "execute_result"
    }
   ],
   "source": [
    "a.head()"
   ]
  },
  {
   "cell_type": "code",
   "execution_count": 68,
   "id": "01c41932-7184-459a-81fd-67b86137bc1e",
   "metadata": {},
   "outputs": [],
   "source": [
    "ab = pd.read_csv('../youtube_data/Sharing service/Chart data.csv')"
   ]
  },
  {
   "cell_type": "code",
   "execution_count": null,
   "id": "145baea7",
   "metadata": {},
   "outputs": [],
   "source": []
  },
  {
   "cell_type": "code",
   "execution_count": 3,
   "id": "1dd91600",
   "metadata": {},
   "outputs": [],
   "source": [
    "sharing_service = pd.read_csv('../youtube_data/Sharing service/Chart data.csv')"
   ]
  },
  {
   "cell_type": "code",
   "execution_count": 4,
   "id": "e9b677d2",
   "metadata": {},
   "outputs": [
    {
     "data": {
      "text/html": [
       "<div>\n",
       "<style scoped>\n",
       "    .dataframe tbody tr th:only-of-type {\n",
       "        vertical-align: middle;\n",
       "    }\n",
       "\n",
       "    .dataframe tbody tr th {\n",
       "        vertical-align: top;\n",
       "    }\n",
       "\n",
       "    .dataframe thead th {\n",
       "        text-align: right;\n",
       "    }\n",
       "</style>\n",
       "<table border=\"1\" class=\"dataframe\">\n",
       "  <thead>\n",
       "    <tr style=\"text-align: right;\">\n",
       "      <th></th>\n",
       "      <th>Date</th>\n",
       "      <th>Sharing service</th>\n",
       "      <th>Shares</th>\n",
       "    </tr>\n",
       "  </thead>\n",
       "  <tbody>\n",
       "    <tr>\n",
       "      <th>0</th>\n",
       "      <td>2020-06-28</td>\n",
       "      <td>Facebook</td>\n",
       "      <td>0</td>\n",
       "    </tr>\n",
       "    <tr>\n",
       "      <th>1</th>\n",
       "      <td>2020-06-29</td>\n",
       "      <td>Facebook</td>\n",
       "      <td>0</td>\n",
       "    </tr>\n",
       "    <tr>\n",
       "      <th>2</th>\n",
       "      <td>2020-06-30</td>\n",
       "      <td>Facebook</td>\n",
       "      <td>0</td>\n",
       "    </tr>\n",
       "    <tr>\n",
       "      <th>3</th>\n",
       "      <td>2020-07-01</td>\n",
       "      <td>Facebook</td>\n",
       "      <td>0</td>\n",
       "    </tr>\n",
       "    <tr>\n",
       "      <th>4</th>\n",
       "      <td>2020-07-02</td>\n",
       "      <td>Facebook</td>\n",
       "      <td>0</td>\n",
       "    </tr>\n",
       "  </tbody>\n",
       "</table>\n",
       "</div>"
      ],
      "text/plain": [
       "         Date Sharing service  Shares\n",
       "0  2020-06-28        Facebook       0\n",
       "1  2020-06-29        Facebook       0\n",
       "2  2020-06-30        Facebook       0\n",
       "3  2020-07-01        Facebook       0\n",
       "4  2020-07-02        Facebook       0"
      ]
     },
     "execution_count": 4,
     "metadata": {},
     "output_type": "execute_result"
    }
   ],
   "source": [
    "sharing_service.head()"
   ]
  },
  {
   "cell_type": "code",
   "execution_count": 7,
   "id": "a35862ed-462d-4697-94b4-02a5f1245fd8",
   "metadata": {},
   "outputs": [],
   "source": [
    "new_column_names = {'Date':'date','Sharing service':'sharing_service','Share':'share'}"
   ]
  },
  {
   "cell_type": "code",
   "execution_count": 8,
   "id": "88a42433",
   "metadata": {},
   "outputs": [],
   "source": [
    "sharing_service = rename_columns(sharing_service,new_column_names)"
   ]
  },
  {
   "cell_type": "code",
   "execution_count": 9,
   "id": "d4607165",
   "metadata": {},
   "outputs": [
    {
     "data": {
      "text/html": [
       "<div>\n",
       "<style scoped>\n",
       "    .dataframe tbody tr th:only-of-type {\n",
       "        vertical-align: middle;\n",
       "    }\n",
       "\n",
       "    .dataframe tbody tr th {\n",
       "        vertical-align: top;\n",
       "    }\n",
       "\n",
       "    .dataframe thead th {\n",
       "        text-align: right;\n",
       "    }\n",
       "</style>\n",
       "<table border=\"1\" class=\"dataframe\">\n",
       "  <thead>\n",
       "    <tr style=\"text-align: right;\">\n",
       "      <th></th>\n",
       "      <th>date</th>\n",
       "      <th>sharing_service</th>\n",
       "      <th>Shares</th>\n",
       "    </tr>\n",
       "  </thead>\n",
       "  <tbody>\n",
       "    <tr>\n",
       "      <th>0</th>\n",
       "      <td>2020-06-28</td>\n",
       "      <td>Facebook</td>\n",
       "      <td>0</td>\n",
       "    </tr>\n",
       "    <tr>\n",
       "      <th>1</th>\n",
       "      <td>2020-06-29</td>\n",
       "      <td>Facebook</td>\n",
       "      <td>0</td>\n",
       "    </tr>\n",
       "    <tr>\n",
       "      <th>2</th>\n",
       "      <td>2020-06-30</td>\n",
       "      <td>Facebook</td>\n",
       "      <td>0</td>\n",
       "    </tr>\n",
       "    <tr>\n",
       "      <th>3</th>\n",
       "      <td>2020-07-01</td>\n",
       "      <td>Facebook</td>\n",
       "      <td>0</td>\n",
       "    </tr>\n",
       "    <tr>\n",
       "      <th>4</th>\n",
       "      <td>2020-07-02</td>\n",
       "      <td>Facebook</td>\n",
       "      <td>0</td>\n",
       "    </tr>\n",
       "  </tbody>\n",
       "</table>\n",
       "</div>"
      ],
      "text/plain": [
       "         date sharing_service  Shares\n",
       "0  2020-06-28        Facebook       0\n",
       "1  2020-06-29        Facebook       0\n",
       "2  2020-06-30        Facebook       0\n",
       "3  2020-07-01        Facebook       0\n",
       "4  2020-07-02        Facebook       0"
      ]
     },
     "execution_count": 9,
     "metadata": {},
     "output_type": "execute_result"
    }
   ],
   "source": [
    "sharing_service.head()"
   ]
  },
  {
   "cell_type": "code",
   "execution_count": 11,
   "id": "21399aa8-5147-43e5-9836-c34714d79acc",
   "metadata": {},
   "outputs": [],
   "source": [
    "sharing_service.to_csv('../data/sharing_service.csv',index=False)"
   ]
  },
  {
   "cell_type": "code",
   "execution_count": 12,
   "id": "190d5aa9",
   "metadata": {},
   "outputs": [],
   "source": [
    "user_age = pd.read_csv('../youtube_data/Viewer age.csv')"
   ]
  },
  {
   "cell_type": "code",
   "execution_count": 13,
   "id": "87e9a2f7",
   "metadata": {},
   "outputs": [
    {
     "data": {
      "text/html": [
       "<div>\n",
       "<style scoped>\n",
       "    .dataframe tbody tr th:only-of-type {\n",
       "        vertical-align: middle;\n",
       "    }\n",
       "\n",
       "    .dataframe tbody tr th {\n",
       "        vertical-align: top;\n",
       "    }\n",
       "\n",
       "    .dataframe thead th {\n",
       "        text-align: right;\n",
       "    }\n",
       "</style>\n",
       "<table border=\"1\" class=\"dataframe\">\n",
       "  <thead>\n",
       "    <tr style=\"text-align: right;\">\n",
       "      <th></th>\n",
       "      <th>Viewer age</th>\n",
       "      <th>Views (%)</th>\n",
       "      <th>Average view duration</th>\n",
       "      <th>Average percentage viewed (%)</th>\n",
       "      <th>Watch time (hours) (%)</th>\n",
       "    </tr>\n",
       "  </thead>\n",
       "  <tbody>\n",
       "    <tr>\n",
       "      <th>0</th>\n",
       "      <td>13–17 years</td>\n",
       "      <td>0.49</td>\n",
       "      <td>0:00:08</td>\n",
       "      <td>0.27</td>\n",
       "      <td>0.01</td>\n",
       "    </tr>\n",
       "    <tr>\n",
       "      <th>1</th>\n",
       "      <td>18–24 years</td>\n",
       "      <td>23.27</td>\n",
       "      <td>0:05:17</td>\n",
       "      <td>9.75</td>\n",
       "      <td>26.91</td>\n",
       "    </tr>\n",
       "    <tr>\n",
       "      <th>2</th>\n",
       "      <td>25–34 years</td>\n",
       "      <td>72.70</td>\n",
       "      <td>0:04:30</td>\n",
       "      <td>8.08</td>\n",
       "      <td>71.66</td>\n",
       "    </tr>\n",
       "    <tr>\n",
       "      <th>3</th>\n",
       "      <td>35–44 years</td>\n",
       "      <td>3.54</td>\n",
       "      <td>0:01:49</td>\n",
       "      <td>2.83</td>\n",
       "      <td>1.42</td>\n",
       "    </tr>\n",
       "  </tbody>\n",
       "</table>\n",
       "</div>"
      ],
      "text/plain": [
       "    Viewer age  Views (%) Average view duration  \\\n",
       "0  13–17 years       0.49               0:00:08   \n",
       "1  18–24 years      23.27               0:05:17   \n",
       "2  25–34 years      72.70               0:04:30   \n",
       "3  35–44 years       3.54               0:01:49   \n",
       "\n",
       "   Average percentage viewed (%)  Watch time (hours) (%)  \n",
       "0                           0.27                    0.01  \n",
       "1                           9.75                   26.91  \n",
       "2                           8.08                   71.66  \n",
       "3                           2.83                    1.42  "
      ]
     },
     "execution_count": 13,
     "metadata": {},
     "output_type": "execute_result"
    }
   ],
   "source": [
    "user_age.head()"
   ]
  },
  {
   "cell_type": "code",
   "execution_count": null,
   "id": "c8f07cba",
   "metadata": {},
   "outputs": [],
   "source": []
  },
  {
   "cell_type": "code",
   "execution_count": null,
   "id": "eea7eadd",
   "metadata": {},
   "outputs": [],
   "source": []
  },
  {
   "cell_type": "code",
   "execution_count": null,
   "id": "fbda24a1",
   "metadata": {},
   "outputs": [],
   "source": []
  },
  {
   "cell_type": "code",
   "execution_count": null,
   "id": "0180c87c",
   "metadata": {},
   "outputs": [],
   "source": []
  },
  {
   "cell_type": "code",
   "execution_count": null,
   "id": "ed70c964",
   "metadata": {},
   "outputs": [],
   "source": []
  },
  {
   "cell_type": "code",
   "execution_count": null,
   "id": "a0bb6615",
   "metadata": {},
   "outputs": [],
   "source": []
  },
  {
   "cell_type": "code",
   "execution_count": null,
   "id": "fff2b997",
   "metadata": {},
   "outputs": [],
   "source": []
  },
  {
   "cell_type": "code",
   "execution_count": null,
   "id": "fc34dc5d",
   "metadata": {},
   "outputs": [],
   "source": []
  },
  {
   "cell_type": "code",
   "execution_count": null,
   "id": "eb53ec90",
   "metadata": {},
   "outputs": [],
   "source": []
  },
  {
   "cell_type": "code",
   "execution_count": null,
   "id": "e3e0a6d8",
   "metadata": {},
   "outputs": [],
   "source": []
  },
  {
   "cell_type": "code",
   "execution_count": null,
   "id": "98cb8254",
   "metadata": {},
   "outputs": [],
   "source": []
  },
  {
   "cell_type": "code",
   "execution_count": null,
   "id": "a8a3ad01",
   "metadata": {},
   "outputs": [],
   "source": []
  },
  {
   "cell_type": "code",
   "execution_count": null,
   "id": "edaef5b7",
   "metadata": {},
   "outputs": [],
   "source": []
  },
  {
   "cell_type": "code",
   "execution_count": null,
   "id": "0a5ee5cc",
   "metadata": {},
   "outputs": [],
   "source": []
  },
  {
   "cell_type": "code",
   "execution_count": null,
   "id": "c20e8824",
   "metadata": {},
   "outputs": [],
   "source": []
  },
  {
   "cell_type": "code",
   "execution_count": null,
   "id": "06badbfa",
   "metadata": {},
   "outputs": [],
   "source": [
    "city_chart.csv\n",
    "city_table.csv\n",
    "common_table.csv\n",
    "country_code.csv\n",
    "device_type.csv\n"
   ]
  },
  {
   "cell_type": "code",
   "execution_count": null,
   "id": "5fff2f9f",
   "metadata": {},
   "outputs": [],
   "source": []
  },
  {
   "cell_type": "code",
   "execution_count": null,
   "id": "769e8ef4",
   "metadata": {},
   "outputs": [],
   "source": []
  },
  {
   "cell_type": "code",
   "execution_count": null,
   "id": "a2e8eb36",
   "metadata": {},
   "outputs": [],
   "source": []
  },
  {
   "cell_type": "code",
   "execution_count": null,
   "id": "602696fa",
   "metadata": {},
   "outputs": [],
   "source": []
  },
  {
   "cell_type": "code",
   "execution_count": 71,
   "id": "7c241c7b-b2a5-4397-9a7e-d7b47f572971",
   "metadata": {},
   "outputs": [
    {
     "data": {
      "text/html": [
       "<div>\n",
       "<style scoped>\n",
       "    .dataframe tbody tr th:only-of-type {\n",
       "        vertical-align: middle;\n",
       "    }\n",
       "\n",
       "    .dataframe tbody tr th {\n",
       "        vertical-align: top;\n",
       "    }\n",
       "\n",
       "    .dataframe thead th {\n",
       "        text-align: right;\n",
       "    }\n",
       "</style>\n",
       "<table border=\"1\" class=\"dataframe\">\n",
       "  <thead>\n",
       "    <tr style=\"text-align: right;\">\n",
       "      <th></th>\n",
       "      <th>country_code</th>\n",
       "      <th>views</th>\n",
       "      <th>Watch time (hours)</th>\n",
       "      <th>Average view duration</th>\n",
       "    </tr>\n",
       "  </thead>\n",
       "  <tbody>\n",
       "    <tr>\n",
       "      <th>0</th>\n",
       "      <td>ET</td>\n",
       "      <td>10903</td>\n",
       "      <td>958.4972</td>\n",
       "      <td>0:05:16</td>\n",
       "    </tr>\n",
       "    <tr>\n",
       "      <th>1</th>\n",
       "      <td>NG</td>\n",
       "      <td>854</td>\n",
       "      <td>103.8847</td>\n",
       "      <td>0:07:17</td>\n",
       "    </tr>\n",
       "    <tr>\n",
       "      <th>2</th>\n",
       "      <td>KE</td>\n",
       "      <td>460</td>\n",
       "      <td>48.0795</td>\n",
       "      <td>0:06:16</td>\n",
       "    </tr>\n",
       "    <tr>\n",
       "      <th>3</th>\n",
       "      <td>US</td>\n",
       "      <td>260</td>\n",
       "      <td>11.6346</td>\n",
       "      <td>0:02:41</td>\n",
       "    </tr>\n",
       "    <tr>\n",
       "      <th>4</th>\n",
       "      <td>IN</td>\n",
       "      <td>228</td>\n",
       "      <td>2.1819</td>\n",
       "      <td>0:00:34</td>\n",
       "    </tr>\n",
       "  </tbody>\n",
       "</table>\n",
       "</div>"
      ],
      "text/plain": [
       "  country_code  views  Watch time (hours) Average view duration\n",
       "0           ET  10903            958.4972               0:05:16\n",
       "1           NG    854            103.8847               0:07:17\n",
       "2           KE    460             48.0795               0:06:16\n",
       "3           US    260             11.6346               0:02:41\n",
       "4           IN    228              2.1819               0:00:34"
      ]
     },
     "execution_count": 71,
     "metadata": {},
     "output_type": "execute_result"
    }
   ],
   "source": []
  }
 ],
 "metadata": {
  "kernelspec": {
   "display_name": "Python 3 (ipykernel)",
   "language": "python",
   "name": "python3"
  },
  "language_info": {
   "codemirror_mode": {
    "name": "ipython",
    "version": 3
   },
   "file_extension": ".py",
   "mimetype": "text/x-python",
   "name": "python",
   "nbconvert_exporter": "python",
   "pygments_lexer": "ipython3",
   "version": "3.9.18"
  }
 },
 "nbformat": 4,
 "nbformat_minor": 5
}
