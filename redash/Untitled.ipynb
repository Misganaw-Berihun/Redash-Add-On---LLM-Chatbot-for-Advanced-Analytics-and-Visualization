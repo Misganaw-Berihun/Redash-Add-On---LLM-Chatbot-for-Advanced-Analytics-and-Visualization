{
 "cells": [
  {
   "cell_type": "code",
   "execution_count": 1,
   "id": "58980729",
   "metadata": {},
   "outputs": [
    {
     "ename": "ModuleNotFoundError",
     "evalue": "No module named 'dotenv'",
     "output_type": "error",
     "traceback": [
      "\u001b[0;31m---------------------------------------------------------------------------\u001b[0m",
      "\u001b[0;31mModuleNotFoundError\u001b[0m                       Traceback (most recent call last)",
      "Input \u001b[0;32mIn [1]\u001b[0m, in \u001b[0;36m<cell line: 3>\u001b[0;34m()\u001b[0m\n\u001b[1;32m      1\u001b[0m \u001b[38;5;66;03m# import psycopg2\u001b[39;00m\n\u001b[1;32m      2\u001b[0m \u001b[38;5;28;01mimport\u001b[39;00m \u001b[38;5;21;01mos\u001b[39;00m\n\u001b[0;32m----> 3\u001b[0m \u001b[38;5;28;01mfrom\u001b[39;00m \u001b[38;5;21;01mdotenv\u001b[39;00m \u001b[38;5;28;01mimport\u001b[39;00m load_dotenv\n\u001b[1;32m      4\u001b[0m load_dotenv()\n\u001b[1;32m      5\u001b[0m \u001b[38;5;28;01mimport\u001b[39;00m \u001b[38;5;21;01mpandas\u001b[39;00m \u001b[38;5;28;01mas\u001b[39;00m \u001b[38;5;21;01mpd\u001b[39;00m\n",
      "\u001b[0;31mModuleNotFoundError\u001b[0m: No module named 'dotenv'"
     ]
    }
   ],
   "source": [
    "# import psycopg2\n",
    "import os\n",
    "from dotenv import load_dotenv\n",
    "load_dotenv()\n",
    "import pandas as pd\n",
    "from sqlalchemy import create_engine\n",
    "from sqlalchemy.sql import text\n",
    "import sqlalchemy\n",
    "\n",
    "class categorySchema:\n",
    "    def __init__(self):\n",
    "        pass\n",
    "\n",
    "    def connectDB(self):\n",
    "        host=os.getenv('host')\n",
    "        port=os.getenv('port')\n",
    "        dbname=os.getenv('dbname')\n",
    "        user=os.getenv('user')\n",
    "        password=os.getenv('password')\n",
    "        engine = sqlalchemy.create_engine(f\"postgresql://{user}:{password}@{host}:{port}/{dbname}\")\n",
    "        return engine\n",
    "\n",
    "    def load(self, df: pd.DataFrame):\n",
    "        engine = self.connectDB()\n",
    "        sql_query = \"\"\"\n",
    "        CREATE SCHEMA IF NOT EXISTS youtube;\n",
    "        DROP TABLE IF EXISTS youtube.category;\n",
    "        CREATE TABLE youtube.category(\n",
    "            kind varchar,\n",
    "            id integer,\n",
    "            title varchar,\n",
    "            assignable boolean,\n",
    "            channelId varchar\n",
    "        );\n",
    "        \"\"\"\n",
    "        with engine.connect() as conn:\n",
    "            conn.execute(text(sql_query))\n",
    "        df.to_sql('category', engine, schema='youtube', if_exists='replace', index=False,\\\n",
    "                    dtype={\n",
    "                         'kind': sqlalchemy.types.VARCHAR,\n",
    "                         'id': sqlalchemy.types.Integer,\n",
    "                         'title': sqlalchemy.types.VARCHAR,\n",
    "                         'assignable': sqlalchemy.types.Boolean,\n",
    "                         'channelId': sqlalchemy.types.VARCHAR})\n",
    "        \"\"\"Load data from the PostgreSQL database.\"\"\"\n",
    "\n",
    "    def read(self):\n",
    "        engine = self.connectDB()\n",
    "        df = pd.read_sql_table('category', engine, schema='youtube')\n",
    "        return df\n",
    "\n",
    "def db(df: pd.DataFrame):\n",
    "    obj = categorySchema()\n",
    "    obj.load(df)"
   ]
  },
  {
   "cell_type": "code",
   "execution_count": 2,
   "id": "6828ae11",
   "metadata": {},
   "outputs": [
    {
     "name": "stdout",
     "output_type": "stream",
     "text": [
      "Collecting python-dotenv\n",
      "  Downloading python_dotenv-1.0.0-py3-none-any.whl (19 kB)\n",
      "Installing collected packages: python-dotenv\n",
      "Successfully installed python-dotenv-1.0.0\n",
      "\n",
      "\u001b[1m[\u001b[0m\u001b[34;49mnotice\u001b[0m\u001b[1;39;49m]\u001b[0m\u001b[39;49m A new release of pip is available: \u001b[0m\u001b[31;49m23.2.1\u001b[0m\u001b[39;49m -> \u001b[0m\u001b[32;49m23.3.2\u001b[0m\n",
      "\u001b[1m[\u001b[0m\u001b[34;49mnotice\u001b[0m\u001b[1;39;49m]\u001b[0m\u001b[39;49m To update, run: \u001b[0m\u001b[32;49m/opt/homebrew/opt/python@3.10/bin/python3.10 -m pip install --upgrade pip\u001b[0m\n"
     ]
    }
   ],
   "source": [
    "!pip install python-dotenv"
   ]
  },
  {
   "cell_type": "code",
   "execution_count": null,
   "id": "d3db4232",
   "metadata": {},
   "outputs": [],
   "source": []
  }
 ],
 "metadata": {
  "kernelspec": {
   "display_name": "Python 3 (ipykernel)",
   "language": "python",
   "name": "python3"
  },
  "language_info": {
   "codemirror_mode": {
    "name": "ipython",
    "version": 3
   },
   "file_extension": ".py",
   "mimetype": "text/x-python",
   "name": "python",
   "nbconvert_exporter": "python",
   "pygments_lexer": "ipython3",
   "version": "3.10.8"
  }
 },
 "nbformat": 4,
 "nbformat_minor": 5
}
